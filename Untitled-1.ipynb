{
 "cells": [
  {
   "cell_type": "code",
   "execution_count": 5,
   "metadata": {},
   "outputs": [],
   "source": [
    "import pandas as pd"
   ]
  },
  {
   "cell_type": "code",
   "execution_count": 1,
   "metadata": {},
   "outputs": [],
   "source": [
    "import json"
   ]
  },
  {
   "cell_type": "code",
   "execution_count": 49,
   "metadata": {},
   "outputs": [],
   "source": [
    "import datetime"
   ]
  },
  {
   "cell_type": "code",
   "execution_count": 47,
   "metadata": {},
   "outputs": [],
   "source": [
    "events = json.load(open('tel.json', 'r'))\n",
    "with open('telemetry.json') as f:\n",
    "    for event in f.readlines():\n",
    "        obj = json.loads(event)\n",
    "        loc = obj['location']\n",
    "        nobj = {'id': obj['id']}\n",
    "        nobj |= loc\n",
    "        events.append(nobj)"
   ]
  },
  {
   "cell_type": "code",
   "execution_count": 48,
   "metadata": {},
   "outputs": [],
   "source": [
    "json.dump(events, open('tel.json', 'w'))"
   ]
  },
  {
   "cell_type": "code",
   "execution_count": 20,
   "metadata": {},
   "outputs": [],
   "source": [
    "data = pd.read_json('tel.json')"
   ]
  },
  {
   "cell_type": "code",
   "execution_count": 21,
   "metadata": {},
   "outputs": [
    {
     "data": {
      "text/html": [
       "<div>\n",
       "<style scoped>\n",
       "    .dataframe tbody tr th:only-of-type {\n",
       "        vertical-align: middle;\n",
       "    }\n",
       "\n",
       "    .dataframe tbody tr th {\n",
       "        vertical-align: top;\n",
       "    }\n",
       "\n",
       "    .dataframe thead th {\n",
       "        text-align: right;\n",
       "    }\n",
       "</style>\n",
       "<table border=\"1\" class=\"dataframe\">\n",
       "  <thead>\n",
       "    <tr style=\"text-align: right;\">\n",
       "      <th></th>\n",
       "      <th>id</th>\n",
       "      <th>cog</th>\n",
       "      <th>lat</th>\n",
       "      <th>lon</th>\n",
       "      <th>sog</th>\n",
       "      <th>ts</th>\n",
       "    </tr>\n",
       "  </thead>\n",
       "  <tbody>\n",
       "    <tr>\n",
       "      <th>0</th>\n",
       "      <td>54009</td>\n",
       "      <td>0.000000</td>\n",
       "      <td>55.685206</td>\n",
       "      <td>37.655532</td>\n",
       "      <td>9.90</td>\n",
       "      <td>1692688307</td>\n",
       "    </tr>\n",
       "    <tr>\n",
       "      <th>1</th>\n",
       "      <td>54051</td>\n",
       "      <td>0.000000</td>\n",
       "      <td>55.742523</td>\n",
       "      <td>37.643495</td>\n",
       "      <td>8.63</td>\n",
       "      <td>1692688309</td>\n",
       "    </tr>\n",
       "    <tr>\n",
       "      <th>2</th>\n",
       "      <td>642524</td>\n",
       "      <td>288.600006</td>\n",
       "      <td>55.689042</td>\n",
       "      <td>37.699553</td>\n",
       "      <td>0.20</td>\n",
       "      <td>1692688322</td>\n",
       "    </tr>\n",
       "    <tr>\n",
       "      <th>3</th>\n",
       "      <td>642524</td>\n",
       "      <td>288.600006</td>\n",
       "      <td>55.689042</td>\n",
       "      <td>37.699553</td>\n",
       "      <td>0.20</td>\n",
       "      <td>1692688322</td>\n",
       "    </tr>\n",
       "    <tr>\n",
       "      <th>4</th>\n",
       "      <td>54033</td>\n",
       "      <td>0.000000</td>\n",
       "      <td>55.688908</td>\n",
       "      <td>37.699313</td>\n",
       "      <td>0.00</td>\n",
       "      <td>1692688324</td>\n",
       "    </tr>\n",
       "  </tbody>\n",
       "</table>\n",
       "</div>"
      ],
      "text/plain": [
       "       id         cog        lat        lon   sog          ts\n",
       "0   54009    0.000000  55.685206  37.655532  9.90  1692688307\n",
       "1   54051    0.000000  55.742523  37.643495  8.63  1692688309\n",
       "2  642524  288.600006  55.689042  37.699553  0.20  1692688322\n",
       "3  642524  288.600006  55.689042  37.699553  0.20  1692688322\n",
       "4   54033    0.000000  55.688908  37.699313  0.00  1692688324"
      ]
     },
     "execution_count": 21,
     "metadata": {},
     "output_type": "execute_result"
    }
   ],
   "source": [
    "data.head()"
   ]
  },
  {
   "cell_type": "code",
   "execution_count": 24,
   "metadata": {},
   "outputs": [
    {
     "data": {
      "text/html": [
       "<div>\n",
       "<style scoped>\n",
       "    .dataframe tbody tr th:only-of-type {\n",
       "        vertical-align: middle;\n",
       "    }\n",
       "\n",
       "    .dataframe tbody tr th {\n",
       "        vertical-align: top;\n",
       "    }\n",
       "\n",
       "    .dataframe thead th {\n",
       "        text-align: right;\n",
       "    }\n",
       "</style>\n",
       "<table border=\"1\" class=\"dataframe\">\n",
       "  <thead>\n",
       "    <tr style=\"text-align: right;\">\n",
       "      <th></th>\n",
       "      <th>ts</th>\n",
       "    </tr>\n",
       "  </thead>\n",
       "  <tbody>\n",
       "    <tr>\n",
       "      <th>tsmin</th>\n",
       "      <td>1691083244</td>\n",
       "    </tr>\n",
       "    <tr>\n",
       "      <th>tsmax</th>\n",
       "      <td>1692783597</td>\n",
       "    </tr>\n",
       "  </tbody>\n",
       "</table>\n",
       "</div>"
      ],
      "text/plain": [
       "               ts\n",
       "tsmin  1691083244\n",
       "tsmax  1692783597"
      ]
     },
     "execution_count": 24,
     "metadata": {},
     "output_type": "execute_result"
    }
   ],
   "source": [
    "data.agg(tsmin = ('ts', 'min'), tsmax = ('ts', 'max'))"
   ]
  },
  {
   "cell_type": "code",
   "execution_count": 25,
   "metadata": {},
   "outputs": [
    {
     "data": {
      "text/plain": [
       "1700353"
      ]
     },
     "execution_count": 25,
     "metadata": {},
     "output_type": "execute_result"
    }
   ],
   "source": [
    "1692783597 - 1691083244"
   ]
  },
  {
   "cell_type": "code",
   "execution_count": 30,
   "metadata": {},
   "outputs": [],
   "source": [
    "schdata = json.load(open('schedule.json'))\n",
    "sch = pd.json_normalize(schdata)"
   ]
  },
  {
   "cell_type": "code",
   "execution_count": 41,
   "metadata": {},
   "outputs": [
    {
     "data": {
      "text/plain": [
       "{1691355600,\n",
       " 1691442000,\n",
       " 1691614800,\n",
       " 1691701200,\n",
       " 1691787600,\n",
       " 1691874000,\n",
       " 1692046800,\n",
       " 1692133200,\n",
       " 1692219600,\n",
       " 1692306000,\n",
       " 1692392400,\n",
       " 1692478800,\n",
       " 1692565200,\n",
       " 1692651600,\n",
       " 1692738000,\n",
       " 1692824400,\n",
       " 1696107600,\n",
       " 1696194000}"
      ]
     },
     "execution_count": 41,
     "metadata": {},
     "output_type": "execute_result"
    }
   ],
   "source": [
    "set(sch['timetable.startdate'])"
   ]
  },
  {
   "cell_type": "code",
   "execution_count": 42,
   "metadata": {},
   "outputs": [
    {
     "data": {
      "text/plain": [
       "18"
      ]
     },
     "execution_count": 42,
     "metadata": {},
     "output_type": "execute_result"
    }
   ],
   "source": [
    "len(set(sch['timetable.startdate']))"
   ]
  },
  {
   "cell_type": "code",
   "execution_count": 43,
   "metadata": {},
   "outputs": [],
   "source": [
    "sdates = set(sch['timetable.startdate'])"
   ]
  },
  {
   "cell_type": "code",
   "execution_count": 46,
   "metadata": {},
   "outputs": [
    {
     "name": "stdout",
     "output_type": "stream",
     "text": [
      "1691787600\n",
      "12/08/2023\n",
      "1691874000\n",
      "13/08/2023\n",
      "1692133200\n",
      "16/08/2023\n",
      "1691701200\n",
      "11/08/2023\n",
      "1692392400\n",
      "19/08/2023\n",
      "1692565200\n",
      "21/08/2023\n",
      "1692824400\n",
      "24/08/2023\n",
      "1692651600\n",
      "22/08/2023\n",
      "1692738000\n",
      "23/08/2023\n",
      "1691442000\n",
      "08/08/2023\n",
      "1692306000\n",
      "18/08/2023\n",
      "1692046800\n",
      "15/08/2023\n",
      "1691614800\n",
      "10/08/2023\n",
      "1692219600\n",
      "17/08/2023\n",
      "1696107600\n",
      "01/10/2023\n",
      "1692478800\n",
      "20/08/2023\n",
      "1691355600\n",
      "07/08/2023\n",
      "1696194000\n",
      "02/10/2023\n"
     ]
    }
   ],
   "source": [
    "for sdate in sdates:\n",
    "    print(sdate)\n",
    "    print(datetime.datetime.fromtimestamp(sdate).strftime('%d/%m/%Y'))"
   ]
  },
  {
   "cell_type": "code",
   "execution_count": 35,
   "metadata": {},
   "outputs": [
    {
     "data": {
      "text/html": [
       "<div>\n",
       "<style scoped>\n",
       "    .dataframe tbody tr th:only-of-type {\n",
       "        vertical-align: middle;\n",
       "    }\n",
       "\n",
       "    .dataframe tbody tr th {\n",
       "        vertical-align: top;\n",
       "    }\n",
       "\n",
       "    .dataframe thead th {\n",
       "        text-align: right;\n",
       "    }\n",
       "</style>\n",
       "<table border=\"1\" class=\"dataframe\">\n",
       "  <thead>\n",
       "    <tr style=\"text-align: right;\">\n",
       "      <th></th>\n",
       "      <th>timetable.starttime</th>\n",
       "    </tr>\n",
       "  </thead>\n",
       "  <tbody>\n",
       "    <tr>\n",
       "      <th>maxstart</th>\n",
       "      <td>1439</td>\n",
       "    </tr>\n",
       "  </tbody>\n",
       "</table>\n",
       "</div>"
      ],
      "text/plain": [
       "          timetable.starttime\n",
       "maxstart                 1439"
      ]
     },
     "execution_count": 35,
     "metadata": {},
     "output_type": "execute_result"
    }
   ],
   "source": [
    "sch.agg(\n",
    "    maxstart = ('timetable.starttime', 'max')\n",
    ")"
   ]
  },
  {
   "cell_type": "code",
   "execution_count": null,
   "metadata": {},
   "outputs": [],
   "source": [
    "schedule = json.load(open('./dataset/schedule.json', 'r'))\n",
    "nschedule = json.load(open('./ndataset/schedule.json', 'r'))\n",
    "for sched in nschedule:\n",
    "    schedule.append(sched)\n",
    "schedule = json.dump(open('./dataset/schedule.json'))"
   ]
  },
  {
   "cell_type": "code",
   "execution_count": null,
   "metadata": {},
   "outputs": [],
   "source": []
  }
 ],
 "metadata": {
  "kernelspec": {
   "display_name": "Python 3",
   "language": "python",
   "name": "python3"
  },
  "language_info": {
   "codemirror_mode": {
    "name": "ipython",
    "version": 3
   },
   "file_extension": ".py",
   "mimetype": "text/x-python",
   "name": "python",
   "nbconvert_exporter": "python",
   "pygments_lexer": "ipython3",
   "version": "3.11.3"
  },
  "orig_nbformat": 4
 },
 "nbformat": 4,
 "nbformat_minor": 2
}
